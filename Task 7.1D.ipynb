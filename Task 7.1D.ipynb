{
 "cells": [
  {
   "attachments": {},
   "cell_type": "markdown",
   "metadata": {},
   "source": [
    "# Task 7.1D: Function approximation implementation\n",
    "_By Sudaksh Mishra (Student ID: 222348309)_"
   ]
  },
  {
   "cell_type": "code",
   "execution_count": 1,
   "metadata": {},
   "outputs": [],
   "source": [
    "import gymnasium as gym\n",
    "from IPython.display import clear_output\n",
    "import matplotlib.pyplot as plt\n",
    "import numpy as np\n",
    "import time"
   ]
  },
  {
   "cell_type": "code",
   "execution_count": 2,
   "metadata": {},
   "outputs": [
    {
     "name": "stdout",
     "output_type": "stream",
     "text": [
      "[2, 3, 1, 3]\n"
     ]
    }
   ],
   "source": [
    "# Importing Taxi-v3 environment\n",
    "env_name = 'Taxi-v3'\n",
    "env = gym.make(env_name, render_mode='human')\n",
    "observation, info = env.reset(seed=6)\n",
    "print(list(env.decode(observation)))\n",
    "env.close()"
   ]
  },
  {
   "cell_type": "code",
   "execution_count": 3,
   "metadata": {},
   "outputs": [
    {
     "name": "stdout",
     "output_type": "stream",
     "text": [
      "Number of states: 500\n",
      "Number of actions: 6\n"
     ]
    }
   ],
   "source": [
    "num_states = env.observation_space.n\n",
    "num_actions = env.action_space.n\n",
    "print('Number of states:', num_states)\n",
    "print('Number of actions:', num_actions)"
   ]
  },
  {
   "attachments": {},
   "cell_type": "markdown",
   "metadata": {},
   "source": [
    "The action shape is (1,) in the range {0, 5} indicating which direction to move the taxi or to pickup/drop off passengers.\n",
    "\n",
    "- 0: Move south (down)\n",
    "- 1: Move north (up)\n",
    "- 2: Move east (right)\n",
    "- 3: Move west (left)\n",
    "- 4: Pickup passenger\n",
    "- 5: Drop off passenger\n",
    "\n",
    "Reference: https://gymnasium.farama.org/environments/toy_text/taxi/"
   ]
  },
  {
   "attachments": {},
   "cell_type": "markdown",
   "metadata": {},
   "source": [
    "Semi-Gradient SARSA(0) is used to solve the problem. The algorithm is implemented in the following steps:\n",
    "\n",
    "1. Initialize the Q-table with zeros\n",
    "2. Choose an action using epsilon-greedy policy\n",
    "3. Take the action and observe the reward and next state\n",
    "4. Update the Q-table using the following formula:\n",
    "    - Q(s, a) = Q(s, a) + alpha * (reward + gamma * Q(s', a') - Q(s, a))\n",
    "5. Repeat steps 2-4 until the episode is finished\n",
    "\n",
    "The algorithm is run for 1000 episodes and the average reward per episode is plotted."
   ]
  },
  {
   "cell_type": "code",
   "execution_count": 4,
   "metadata": {},
   "outputs": [],
   "source": [
    "def random_action(a, eps=0.1):\n",
    "    p = np.random.rand()\n",
    "    if p < eps:\n",
    "        return np.random.choice([0, 1, 2, 3, 4, 5])\n",
    "    else:\n",
    "        return a"
   ]
  },
  {
   "cell_type": "code",
   "execution_count": 23,
   "metadata": {},
   "outputs": [],
   "source": [
    "class Model:\n",
    "    def __init__(self):\n",
    "        self.alpha = 0.5\n",
    "        self.gamma = 0.9\n",
    "        self.eps = 1.0\n",
    "        self.theta = np.zeros(73)\n",
    "\n",
    "    def sa2x(self, s, a):\n",
    "        x = np.zeros(73)\n",
    "\n",
    "        for i in range(num_actions):\n",
    "            x[0 + 12*i]  = s[0]/2 if a == i else 0\n",
    "            x[1 + 12*i]  = s[1]/5 if a == i else 0\n",
    "            x[2 + 12*i]  = s[2]/5 if a == i else 0\n",
    "            x[3 + 12*i]  = s[0]*s[0]*s[1]/20 if a == i else 0\n",
    "            x[4 + 12*i]  = s[0]*s[1]*s[1]/50 if a == i else 0\n",
    "            x[5 + 12*i]  = s[0]*s[0]*s[2]/20 if a == i else 0\n",
    "            x[6 + 12*i]  = s[0]*s[2]*s[2]/50 if a == i else 0\n",
    "            x[7 + 12*i]  = s[1]*s[1]*s[2]/125 if a == i else 0\n",
    "            x[8 + 12*i]  = s[1]*s[2]*s[2]/125 if a == i else 0\n",
    "            x[9 + 12*i]  = s[0]*s[0]/25 if a == i else 0\n",
    "            x[10 + 12*i] = s[1]*s[1]/25 if a == i else 0\n",
    "            x[11 + 12*i] = s[2]*s[2]/25 if a == i else 0\n",
    "\n",
    "        x[72] = 1\n",
    "        return x\n",
    "\n",
    "    def predict(self, s, a):\n",
    "        x = self.sa2x(s, a)\n",
    "        return self.theta.dot(x)"
   ]
  },
  {
   "cell_type": "code",
   "execution_count": 24,
   "metadata": {},
   "outputs": [],
   "source": [
    "def getQs(model, s):\n",
    "    Qs = np.zeros(num_actions)\n",
    "    for a in range(num_actions):\n",
    "        x = model.sa2x(s, a)\n",
    "        Qs[a] = model.theta.dot(x)\n",
    "    return Qs"
   ]
  },
  {
   "cell_type": "code",
   "execution_count": 25,
   "metadata": {},
   "outputs": [
    {
     "name": "stdout",
     "output_type": "stream",
     "text": [
      "State-Action to Index Mapping: {(0, 0, 0): {0: 0, 1: 1, 2: 2, 3: 3, 4: 4, 5: 5}, (0, 0, 1): {0: 6, 1: 7, 2: 8, 3: 9, 4: 10, 5: 11}, (0, 0, 2): {0: 12, 1: 13, 2: 14, 3: 15, 4: 16, 5: 17}, (0, 0, 3): {0: 18, 1: 19, 2: 20, 3: 21, 4: 22, 5: 23}, (0, 0, 4): {0: 24, 1: 25, 2: 26, 3: 27, 4: 28, 5: 29}, (0, 1, 0): {0: 30, 1: 31, 2: 32, 3: 33, 4: 34, 5: 35}, (0, 1, 1): {0: 36, 1: 37, 2: 38, 3: 39, 4: 40, 5: 41}, (0, 1, 2): {0: 42, 1: 43, 2: 44, 3: 45, 4: 46, 5: 47}, (0, 1, 3): {0: 48, 1: 49, 2: 50, 3: 51, 4: 52, 5: 53}, (0, 1, 4): {0: 54, 1: 55, 2: 56, 3: 57, 4: 58, 5: 59}, (0, 2, 0): {0: 60, 1: 61, 2: 62, 3: 63, 4: 64, 5: 65}, (0, 2, 1): {0: 66, 1: 67, 2: 68, 3: 69, 4: 70, 5: 71}, (0, 2, 2): {0: 72, 1: 73, 2: 74, 3: 75, 4: 76, 5: 77}, (0, 2, 3): {0: 78, 1: 79, 2: 80, 3: 81, 4: 82, 5: 83}, (0, 2, 4): {0: 84, 1: 85, 2: 86, 3: 87, 4: 88, 5: 89}, (0, 3, 0): {0: 90, 1: 91, 2: 92, 3: 93, 4: 94, 5: 95}, (0, 3, 1): {0: 96, 1: 97, 2: 98, 3: 99, 4: 100, 5: 101}, (0, 3, 2): {0: 102, 1: 103, 2: 104, 3: 105, 4: 106, 5: 107}, (0, 3, 3): {0: 108, 1: 109, 2: 110, 3: 111, 4: 112, 5: 113}, (0, 3, 4): {0: 114, 1: 115, 2: 116, 3: 117, 4: 118, 5: 119}, (0, 4, 0): {0: 120, 1: 121, 2: 122, 3: 123, 4: 124, 5: 125}, (0, 4, 1): {0: 126, 1: 127, 2: 128, 3: 129, 4: 130, 5: 131}, (0, 4, 2): {0: 132, 1: 133, 2: 134, 3: 135, 4: 136, 5: 137}, (0, 4, 3): {0: 138, 1: 139, 2: 140, 3: 141, 4: 142, 5: 143}, (0, 4, 4): {0: 144, 1: 145, 2: 146, 3: 147, 4: 148, 5: 149}, (1, 0, 0): {0: 150, 1: 151, 2: 152, 3: 153, 4: 154, 5: 155}, (1, 0, 1): {0: 156, 1: 157, 2: 158, 3: 159, 4: 160, 5: 161}, (1, 0, 2): {0: 162, 1: 163, 2: 164, 3: 165, 4: 166, 5: 167}, (1, 0, 3): {0: 168, 1: 169, 2: 170, 3: 171, 4: 172, 5: 173}, (1, 0, 4): {0: 174, 1: 175, 2: 176, 3: 177, 4: 178, 5: 179}, (1, 1, 0): {0: 180, 1: 181, 2: 182, 3: 183, 4: 184, 5: 185}, (1, 1, 1): {0: 186, 1: 187, 2: 188, 3: 189, 4: 190, 5: 191}, (1, 1, 2): {0: 192, 1: 193, 2: 194, 3: 195, 4: 196, 5: 197}, (1, 1, 3): {0: 198, 1: 199, 2: 200, 3: 201, 4: 202, 5: 203}, (1, 1, 4): {0: 204, 1: 205, 2: 206, 3: 207, 4: 208, 5: 209}, (1, 2, 0): {0: 210, 1: 211, 2: 212, 3: 213, 4: 214, 5: 215}, (1, 2, 1): {0: 216, 1: 217, 2: 218, 3: 219, 4: 220, 5: 221}, (1, 2, 2): {0: 222, 1: 223, 2: 224, 3: 225, 4: 226, 5: 227}, (1, 2, 3): {0: 228, 1: 229, 2: 230, 3: 231, 4: 232, 5: 233}, (1, 2, 4): {0: 234, 1: 235, 2: 236, 3: 237, 4: 238, 5: 239}, (1, 3, 0): {0: 240, 1: 241, 2: 242, 3: 243, 4: 244, 5: 245}, (1, 3, 1): {0: 246, 1: 247, 2: 248, 3: 249, 4: 250, 5: 251}, (1, 3, 2): {0: 252, 1: 253, 2: 254, 3: 255, 4: 256, 5: 257}, (1, 3, 3): {0: 258, 1: 259, 2: 260, 3: 261, 4: 262, 5: 263}, (1, 3, 4): {0: 264, 1: 265, 2: 266, 3: 267, 4: 268, 5: 269}, (1, 4, 0): {0: 270, 1: 271, 2: 272, 3: 273, 4: 274, 5: 275}, (1, 4, 1): {0: 276, 1: 277, 2: 278, 3: 279, 4: 280, 5: 281}, (1, 4, 2): {0: 282, 1: 283, 2: 284, 3: 285, 4: 286, 5: 287}, (1, 4, 3): {0: 288, 1: 289, 2: 290, 3: 291, 4: 292, 5: 293}, (1, 4, 4): {0: 294, 1: 295, 2: 296, 3: 297, 4: 298, 5: 299}}\n"
     ]
    }
   ],
   "source": [
    "IDX = 0\n",
    "SA2IDX = {}\n",
    "\n",
    "states = [(i, j, k) for i in range(2) for j in range(5) for k in range(5)]\n",
    "\n",
    "for i in range(2): # passenger state\n",
    "    for j in range(5):\n",
    "        for k in range(5):\n",
    "            SA2IDX[(i, j, k)] = {}\n",
    "            for a in range(6):\n",
    "                SA2IDX[(i, j, k)][a] = IDX\n",
    "                IDX += 1\n",
    "\n",
    "print('State-Action to Index Mapping:', SA2IDX)"
   ]
  },
  {
   "cell_type": "code",
   "execution_count": 44,
   "metadata": {},
   "outputs": [
    {
     "name": "stdout",
     "output_type": "stream",
     "text": [
      "[0. 0. 0. 0. 0. 0. 0. 0. 0. 0. 0. 0. 0. 0. 0. 0. 0. 0. 0. 0. 0. 0. 0. 0.\n",
      " 0. 0. 0. 0. 0. 0. 0. 0. 0. 0. 0. 0. 0. 0. 0. 0. 0. 0. 0. 0. 0. 0. 0. 0.\n",
      " 0. 0. 0. 0. 0. 0. 0. 0. 0. 0. 0. 0. 0. 0. 0. 0. 0. 0. 0. 0. 0. 0. 0. 0.\n",
      " 0.]\n",
      "[0.    0.    0.    0.    0.    0.    0.    0.    0.    0.    0.    0.\n",
      " 0.    0.    0.    0.    0.    0.    0.    0.    0.    0.    0.    0.\n",
      " 0.    0.2   0.8   0.    0.    0.    0.    0.032 0.128 0.    0.04  0.64\n",
      " 0.    0.    0.    0.    0.    0.    0.    0.    0.    0.    0.    0.\n",
      " 0.    0.    0.    0.    0.    0.    0.    0.    0.    0.    0.    0.\n",
      " 0.    0.    0.    0.    0.    0.    0.    0.    0.    0.    0.    0.\n",
      " 1.   ]\n",
      "0.0\n"
     ]
    }
   ],
   "source": [
    "model = Model()\n",
    "print(model.theta)\n",
    "print(model.sa2x((0, 1, 4), 2))\n",
    "print(model.predict((0, 1, 4), 2))"
   ]
  },
  {
   "cell_type": "code",
   "execution_count": 45,
   "metadata": {},
   "outputs": [
    {
     "data": {
      "text/plain": [
       "0"
      ]
     },
     "execution_count": 45,
     "metadata": {},
     "output_type": "execute_result"
    }
   ],
   "source": [
    "Qs = getQs(model, (0, 1, 4))\n",
    "action = Qs.argmax()\n",
    "action"
   ]
  },
  {
   "cell_type": "code",
   "execution_count": 46,
   "metadata": {},
   "outputs": [
    {
     "name": "stdout",
     "output_type": "stream",
     "text": [
      "Episode: 10000 Epsilon: 0.07942007610118602 Theta: [ 21.95782341  14.82385433  37.34030014  23.20088509  20.74428802\n",
      "  -9.12127421 -30.3505411   -6.88738185 -12.84729429   1.75662587\n",
      " -21.20501214 -23.51905737   1.71741753   7.8388061   37.29245176\n",
      "  18.16331034  21.19853763  -8.58564448 -23.09304136 -10.33218398\n",
      " -17.57125657   0.1373934   -3.61230411  -7.52520008  -1.43727091\n",
      "   7.71040839  48.16740671  14.85651595  19.88863279  -6.43382136\n",
      " -13.06222538  -6.30970053 -13.78975546  -0.11498167  -6.22296132\n",
      " -24.35624473   9.18687741  11.82907866  24.58180331  12.15157752\n",
      "  11.71387566  -1.37336786  -6.14462683 -11.13765115   2.30843186\n",
      "   0.73495019 -11.68654618  -7.20769172   1.66061755 -12.52184013\n",
      "  18.51421384  40.64811397  28.93759375 -12.16290969 -33.38828814\n",
      "  11.39786045 -46.99066182   0.1328494   15.91589766  18.82307195\n",
      " -21.17026892 -48.27539961   1.63499204  30.90642091 103.59492535\n",
      "  23.76605138 -19.30938386  82.45652535 -51.7124025   -1.69362151\n",
      "  45.60381117 -29.59148579 -11.29817222] Alpha: 0.1\n",
      "State: (0, 2, 3)  Action: 2 Reward: -1\n",
      "State: (0, 2, 4)  Action: 1 Reward: -1\n",
      "State: (0, 1, 4)  Action: 1 Reward: -1\n",
      "State: (0, 0, 4)  Action: 4 Reward: 10\n",
      "State: (1, 0, 4)  Action: 3 Reward: -1\n",
      "State: (1, 0, 3)  Action: 0 Reward: -1\n",
      "State: (1, 1, 3)  Action: 0 Reward: -1\n",
      "State: (1, 2, 3)  Action: 0 Reward: -1\n",
      "State: (1, 3, 3)  Action: 0 Reward: -1\n",
      "State: (1, 4, 3)  Action: 5 Reward: 30\n"
     ]
    }
   ],
   "source": [
    "num_episodes = 10001\n",
    "decay = 1.\n",
    "decay_2 = 1.\n",
    "deltas = []\n",
    "\n",
    "render = 2000\n",
    "passenger_location = (0, 0, 4)\n",
    "destination = (1, 4, 3)\n",
    "\n",
    "for i in range(num_episodes):\n",
    "    # Decay alpha and epsilon\n",
    "    if i % 100 == 0:\n",
    "        decay += 0.0005\n",
    "        decay_2 += 0.0005\n",
    "        model.eps /= decay\n",
    "        model.alpha /= decay_2\n",
    "        if model.alpha < 0.1:\n",
    "            model.alpha = 0.1\n",
    "\n",
    "    if i % render == 0:\n",
    "        print('Episode:', i, 'Epsilon:', model.eps, 'Theta:', model.theta, 'Alpha:', model.alpha)\n",
    "        env = gym.make(env_name, render_mode='human')\n",
    "    else:\n",
    "        env = gym.make(env_name)\n",
    "    env._max_episode_steps = 100\n",
    "    observation, info = env.reset(seed=6)\n",
    "    reward = 0\n",
    "    observation = tuple([0] + list(env.decode(observation))[:2])\n",
    "\n",
    "    Qs = getQs(model, observation)\n",
    "\n",
    "    action = Qs.argmax()\n",
    "    action = random_action(action, eps=model.eps)\n",
    "    reward_given = False\n",
    "    biggest_change = 0\n",
    "    done = False\n",
    "    \n",
    "    while not done:\n",
    "        observation_, reward, terminated, truncated, info = env.step(action)\n",
    "        done = terminated or truncated\n",
    "        \n",
    "        # Adding the passenger state to the observation and adjusting the reward\n",
    "        if action == 4 and observation == passenger_location:\n",
    "            observation_ = tuple([1] + list(env.decode(observation_))[:2])\n",
    "            # Reward for picking passenger up\n",
    "            if not reward_given:\n",
    "                reward_given = True\n",
    "                reward = 10\n",
    "        elif action == 5:\n",
    "            observation_ = tuple([0] + list(env.decode(observation_))[:2])\n",
    "            # Terminate the episode if there is an illegal drop off\n",
    "            if observation != destination:\n",
    "                done = True\n",
    "                reward = -30\n",
    "            else:\n",
    "                reward = 30\n",
    "        else:\n",
    "            if observation[0] == 1:\n",
    "                observation_ = tuple([1] + list(env.decode(observation_))[:2])\n",
    "            else:\n",
    "                observation_ = tuple([0] + list(env.decode(observation_))[:2])\n",
    "\n",
    "        # Printing the state, action and reward\n",
    "        if i % render == 0:\n",
    "            print('State:', observation, ' Action:', action, 'Reward:', reward)\n",
    "        \n",
    "        old_theta = model.theta.copy()\n",
    "        if done:\n",
    "            model.theta += model.alpha * (reward - model.predict(observation, action)) * model.sa2x(observation, action)\n",
    "        else:\n",
    "            Qs_ = getQs(model, observation_)\n",
    "            action_, maxQs_a_ = Qs_.argmax(), Qs_.max()\n",
    "            action_ = random_action(action_, eps = model.eps)\n",
    "            \n",
    "            model.theta += model.alpha * (reward + model.gamma * maxQs_a_ - model.predict(observation, action)) * model.sa2x(observation, action)\n",
    "            \n",
    "            # Update observation and action\n",
    "            observation = observation_\n",
    "            action = action_\n",
    "        \n",
    "        biggest_change = max(biggest_change, np.abs(model.theta - old_theta).sum())\n",
    "        deltas.append(biggest_change)\n",
    "    clear_output(wait=True)\n",
    "    env.close()"
   ]
  },
  {
   "cell_type": "code",
   "execution_count": 47,
   "metadata": {},
   "outputs": [
    {
     "data": {
      "image/png": "[encoded data removed]",
      "text/plain": [
       "<Figure size 640x480 with 1 Axes>"
      ]
     },
     "metadata": {},
     "output_type": "display_data"
    }
   ],
   "source": [
    "plt.plot(deltas)\n",
    "plt.show()"
   ]
  },
  {
   "cell_type": "code",
   "execution_count": 48,
   "metadata": {},
   "outputs": [],
   "source": [
    "policy = {}\n",
    "V = {}\n",
    "Q = {}\n",
    "for state in states:\n",
    "    Qs = getQs(model, state)\n",
    "    Q[state] = Qs\n",
    "    action = Qs.argmax()\n",
    "    policy[state] = action\n",
    "    V[state] = Qs.max()"
   ]
  },
  {
   "cell_type": "code",
   "execution_count": 49,
   "metadata": {},
   "outputs": [
    {
     "name": "stdout",
     "output_type": "stream",
     "text": [
      "Policy:\n",
      " [[['S' 'E' 'E' 'E' 'P']\n",
      "  ['S' 'E' 'E' 'E' 'N']\n",
      "  ['W' 'E' 'E' 'E' 'N']\n",
      "  ['N' 'E' 'E' 'E' 'N']\n",
      "  ['N' 'E' 'E' 'E' 'E']]\n",
      "\n",
      " [['S' 'S' 'S' 'S' 'W']\n",
      "  ['S' 'S' 'S' 'S' 'W']\n",
      "  ['S' 'S' 'S' 'S' 'W']\n",
      "  ['S' 'S' 'S' 'S' 'W']\n",
      "  ['D' 'D' 'D' 'D' 'W']]]\n",
      "Value:\n",
      " [[[-9.87731951 -1.2170161   5.49501741 10.25878103 16.97648879]\n",
      "  [-7.75562217 -0.08394416  6.2466913  10.40843916 14.01729348]\n",
      "  [-7.01553543  0.45044999  6.29874445  9.75753358 11.91134845]\n",
      "  [-6.47277016  0.38616637  5.65117686  8.30606431  8.85508458]\n",
      "  [-5.91598019 -0.27679504  4.30398852  6.05403134  4.97333341]]\n",
      "\n",
      " [[ 1.16910849  6.63174209  8.99843616  8.26919069  7.41728897]\n",
      "  [ 4.86629772 10.17126373 12.17484406 10.87703872 10.09657369]\n",
      "  [ 7.7000768  12.73748616 14.26806369 12.29180942 11.59668006]\n",
      "  [ 9.67044573 14.33040937 15.27809505 12.51350279 11.91760809]\n",
      "  [11.52415994 20.67380846 23.45548439 19.86918775 11.05935778]]]\n"
     ]
    }
   ],
   "source": [
    "# Convert policy to matrix format\n",
    "action_mapping = {\n",
    "    0: 'S',\n",
    "    1: 'N',\n",
    "    2: 'E',\n",
    "    3: 'W',\n",
    "    4: 'P',\n",
    "    5: 'D'\n",
    "}\n",
    "\n",
    "policy_matrix = np.zeros((2, 5, 5), dtype='<U2')\n",
    "V_matrix = np.zeros((2, 5, 5))\n",
    "\n",
    "for ps in range(2):\n",
    "    for s1 in range(5):\n",
    "        for s2 in range(5):\n",
    "            state = (ps, s1, s2)\n",
    "            policy_matrix[ps, s1, s2] = action_mapping[policy[state]]\n",
    "            V_matrix[ps, s1, s2] = V[state] \n",
    "\n",
    "print('Policy:\\n', policy_matrix)\n",
    "print('Value:\\n', V_matrix)"
   ]
  },
  {
   "cell_type": "code",
   "execution_count": 50,
   "metadata": {},
   "outputs": [
    {
     "name": "stdout",
     "output_type": "stream",
     "text": [
      "State: (0, 2, 4)  Action: 1 Reward: -1\n",
      "State: (0, 1, 4)  Action: 1 Reward: -1\n",
      "State: (0, 0, 4)  Action: 4 Reward: -1\n",
      "State: (1, 0, 4)  Action: 3 Reward: -1\n",
      "State: (1, 0, 3)  Action: 0 Reward: -1\n",
      "State: (1, 1, 3)  Action: 0 Reward: -1\n",
      "State: (1, 2, 3)  Action: 0 Reward: -1\n",
      "State: (1, 3, 3)  Action: 0 Reward: -1\n",
      "State: (1, 4, 3)  Action: 5 Reward: -1\n",
      "State: (0, 4, 3)  Action: 2 Reward: 20\n"
     ]
    }
   ],
   "source": [
    "# Testing\n",
    "env = gym.make(env_name, render_mode='human')\n",
    "env._max_episode_steps = 30\n",
    "observation, info = env.reset(seed=6)\n",
    "observation = tuple([0] + list(env.decode(observation))[:2])\n",
    "Qs = getQs(model, observation)\n",
    "action = Qs.argmax()\n",
    "passenger_picked_up = False\n",
    "done = False\n",
    "while not done:\n",
    "    observation_, reward, terminated, truncated, info = env.step(action)\n",
    "    done = terminated or truncated\n",
    "    if action == 4 and observation == passenger_location:\n",
    "        observation_ = tuple([1] + list(env.decode(observation_))[:2])\n",
    "    elif action == 5:\n",
    "        observation_ = tuple([0] + list(env.decode(observation_))[:2])\n",
    "    else:\n",
    "        if observation[0] == 1:\n",
    "            observation_ = tuple([1] + list(env.decode(observation_))[:2])\n",
    "        else:\n",
    "            observation_ = tuple([0] + list(env.decode(observation_))[:2])\n",
    "    observation = observation_\n",
    "    Qs = getQs(model, observation)\n",
    "    action = Qs.argmax()\n",
    "    print('State:', observation, ' Action:', action, 'Reward:', reward)\n",
    "\n",
    "env.close()"
   ]
  },
  {
   "cell_type": "code",
   "execution_count": 52,
   "metadata": {},
   "outputs": [
    {
     "name": "stdout",
     "output_type": "stream",
     "text": [
      "[ 21.95236088  14.84305054  37.3337451   23.20568415  20.76038449\n",
      "  -9.12291297 -30.35250761  -6.86806609 -12.84038366   1.75618887\n",
      " -21.1728192  -23.52299039   1.71741753   7.84197319  37.31715131\n",
      "  18.16331034  21.19853763  -8.58564448 -23.09304136 -10.33263974\n",
      " -17.56922963   0.1373934   -3.61287381  -7.50544044  -1.43727091\n",
      "   7.71359843  48.17219177  14.85651595  19.88863279  -6.43382136\n",
      " -13.06222538  -6.30893492 -13.78860705  -0.11498167  -6.2216853\n",
      " -24.35337369   9.13845886  11.82907866  24.50433364  12.15157752\n",
      "  11.71387566  -1.39273528  -6.1756147  -11.13765115   2.30843186\n",
      "   0.73107671 -11.68654618  -7.26966746   1.66061755 -12.52184013\n",
      "  18.51091443  40.64811397  28.93759375 -12.16290969 -33.38828814\n",
      "  11.39786045 -46.99066182   0.1328494   15.91589766  18.82043242\n",
      " -20.42332412 -47.08028793   2.53132579  31.20519883 104.07297002\n",
      "  23.99013482 -19.04048374  83.03017895 -51.28216229  -1.63386593\n",
      "  46.55990051 -29.05368554  -9.87731951]\n"
     ]
    }
   ],
   "source": [
    "print(model.theta)"
   ]
  }
 ],
 "metadata": {
  "kernelspec": {
   "display_name": "gym",
   "language": "python",
   "name": "python3"
  },
  "language_info": {
   "codemirror_mode": {
    "name": "ipython",
    "version": 3
   },
   "file_extension": ".py",
   "mimetype": "text/x-python",
   "name": "python",
   "nbconvert_exporter": "python",
   "pygments_lexer": "ipython3",
   "version": "3.10.9"
  },
  "orig_nbformat": 4
 },
 "nbformat": 4,
 "nbformat_minor": 2
}
