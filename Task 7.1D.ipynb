{
 "cells": [
  {
   "attachments": {},
   "cell_type": "markdown",
   "metadata": {},
   "source": [
    "# Task 7.1D: Function approximation implementation\n",
    "_By Sudaksh Mishra (Student ID: 222348309)_"
   ]
  },
  {
   "cell_type": "code",
   "execution_count": 1,
   "metadata": {},
   "outputs": [],
   "source": [
    "import gymnasium as gym\n",
    "from IPython.display import clear_output\n",
    "import matplotlib.pyplot as plt\n",
    "import numpy as np\n",
    "import time"
   ]
  },
  {
   "cell_type": "code",
   "execution_count": 2,
   "metadata": {},
   "outputs": [
    {
     "name": "stdout",
     "output_type": "stream",
     "text": [
      "[2, 3, 1, 3]\n"
     ]
    }
   ],
   "source": [
    "# Importing Taxi-v3 environment\n",
    "env_name = 'Taxi-v3'\n",
    "env = gym.make(env_name, render_mode='human')\n",
    "observation, info = env.reset(seed=6)\n",
    "print(list(env.decode(observation)))\n",
    "# time.sleep(10)\n",
    "env.close()"
   ]
  },
  {
   "cell_type": "code",
   "execution_count": 3,
   "metadata": {},
   "outputs": [
    {
     "name": "stdout",
     "output_type": "stream",
     "text": [
      "Number of states: 500\n",
      "Number of actions: 6\n"
     ]
    }
   ],
   "source": [
    "num_states = env.observation_space.n\n",
    "num_actions = env.action_space.n\n",
    "print('Number of states:', num_states)\n",
    "print('Number of actions:', num_actions)"
   ]
  },
  {
   "attachments": {},
   "cell_type": "markdown",
   "metadata": {},
   "source": [
    "## Introduction\n",
    "In reinforcement learning, agents learn to interact with an environment in order to maximize their cumulative reward. One of the most popular benchmarks for reinforcement learning is the Taxi-v3 problem, which involves a taxi navigating a grid-world environment to pick up and drop off passengers at specified locations.\n",
    "\n",
    "In this report, we will discuss the implementation of two different temporal difference learning algorithms, namely semi-gradient SARSA(0) and semi-gradient TD(lambda), for solving the Taxi-v3 problem. Both algorithms are based on the concept of updating the agent's value function through trial-and-error interaction with the environment, and are well-suited for problems with small to medium-sized state and action spaces.\n",
    "\n",
    "We will first provide a brief overview of the Taxi-v3 problem and the relevant reinforcement learning concepts. Then, we will describe the details of the semi-gradient SARSA(0) and semi-gradient TD(lambda) algorithms and explain how they were adapted and implemented for solving the Taxi-v3 problem.\n",
    "\n",
    "## Taxi-v3 problem\n",
    "The Taxi-v3 environment provides a 5x5 grid world with four possible locations for passengers and four possible destinations. The agent can move in any of the four cardinal directions (up, down, left, and right), as well as pick up and drop off passengers at specific locations. The rewards in the environment are based on the agent's actions and range from -1 for each time step to +20 for successfully dropping off a passenger.\n",
    "\n",
    "The action shape is (1,) in the range {0, 5} indicating which direction to move the taxi or to pickup/drop off passengers.\n",
    "\n",
    "- 0: Move south (down)\n",
    "- 1: Move north (up)\n",
    "- 2: Move east (right)\n",
    "- 3: Move west (left)\n",
    "- 4: Pickup passenger\n",
    "- 5: Drop off passenger\n",
    "\n",
    "Reference: https://gymnasium.farama.org/environments/toy_text/taxi/"
   ]
  },
  {
   "attachments": {},
   "cell_type": "markdown",
   "metadata": {},
   "source": [
    "### Semi-Gradient SARSA(0)"
   ]
  },
  {
   "attachments": {},
   "cell_type": "markdown",
   "metadata": {},
   "source": [
    "The semi-gradient SARSA(0) algorithm updates the action-value function for each state-action pair by taking a step in the direction of the gradient of the mean-squared error between the estimated action-value function and the true action-value function. This step size is controlled by a learning rate parameter, which determines the size of the updates.\n",
    "\n",
    "In the name \"Sarsa(0)\", the 0 indicates that the algorithm uses a one-step update. This means that the update only considers the next state and action, rather than looking ahead at multiple future steps as in other algorithms like TD(lambda). In other words, Sarsa(0) updates its value estimates based on the immediate reward and the estimated value of the next state-action pair, without taking into account any subsequent rewards or state transitions. This makes the algorithm simpler and more computationally efficient than other TD-based methods, but also less accurate in some cases.\n",
    "\n",
    "Pseudocode:\n",
    "```\n",
    "Loop for each episode:\n",
    "    S, A <-- initial state and action of episode (e.g., env,reset)\n",
    "    Loop for each step of episode:\n",
    "        Take action A, observe R, S'\n",
    "        If S' is terminal:\n",
    "            w <-- w + alpha * (R - Q(S, A, w)) * grad Q(S, A, w)\n",
    "            Go to next episode\n",
    "        Choose A' as a function of Q(S', ., w) (e.g., epsilon-greedy)\n",
    "        w <-- w + alpha * (R + gamma * Q(S', A', w) - Q(S, A, w)) * grad Q(S, A, w)\n",
    "        S <-- S'; A <-- A'\n",
    "    until S is terminal\n",
    "```\n",
    "\n",
    "Reference: Sutton, R.S. and Barto, A.G., 2018. Reinforcement learning: An introduction. MIT press."
   ]
  },
  {
   "cell_type": "code",
   "execution_count": 4,
   "metadata": {},
   "outputs": [],
   "source": [
    "class SemiGradientSarsa:\n",
    "    def __init__(self, env_name, alpha=0.5, gamma=0.9, eps=1.0, seed=6):\n",
    "        self.alpha = alpha\n",
    "        self.gamma = gamma\n",
    "        self.eps = eps\n",
    "        self.seed = seed\n",
    "        env = gym.make(env_name)\n",
    "        observation, info = env.reset(seed=self.seed)\n",
    "        if list(env.decode(observation))[2] == 0:\n",
    "            self.passenger_location = (0, 0, 0)\n",
    "        elif list(env.decode(observation))[2] == 1:\n",
    "            self.passenger_location = (0, 0, 4)\n",
    "        elif list(env.decode(observation))[2] == 2:\n",
    "            self.passenger_location = (0, 4, 0)\n",
    "        else:\n",
    "            self.passenger_location = (0, 4, 3)\n",
    "\n",
    "        if list(env.decode(observation))[3] == 0:\n",
    "            self.destination = (1, 0, 0)\n",
    "        elif list(env.decode(observation))[3] == 1:\n",
    "            self.destination = (1, 0, 4)\n",
    "        elif list(env.decode(observation))[3] == 2:\n",
    "            self.destination = (1, 4, 0)\n",
    "        else:\n",
    "            self.destination = (1, 4, 3)\n",
    "        env.close()\n",
    "        self.theta = np.zeros(73)\n",
    "        self.deltas = []\n",
    "\n",
    "    def sa2x(self, s, a):\n",
    "        x = np.zeros(73)\n",
    "\n",
    "        for i in range(num_actions):\n",
    "            x[0 + 12*i]  = s[0]/2 if a == i else 0\n",
    "            x[1 + 12*i]  = s[1]/5 if a == i else 0\n",
    "            x[2 + 12*i]  = s[2]/5 if a == i else 0\n",
    "            x[3 + 12*i]  = s[0]*s[0]*s[1]/20 if a == i else 0\n",
    "            x[4 + 12*i]  = s[0]*s[1]*s[1]/50 if a == i else 0\n",
    "            x[5 + 12*i]  = s[0]*s[0]*s[2]/20 if a == i else 0\n",
    "            x[6 + 12*i]  = s[0]*s[2]*s[2]/50 if a == i else 0\n",
    "            x[7 + 12*i]  = s[1]*s[1]*s[2]/125 if a == i else 0\n",
    "            x[8 + 12*i]  = s[1]*s[2]*s[2]/125 if a == i else 0\n",
    "            x[9 + 12*i]  = s[0]*s[0]/25 if a == i else 0\n",
    "            x[10 + 12*i] = s[1]*s[1]/25 if a == i else 0\n",
    "            x[11 + 12*i] = s[2]*s[2]/25 if a == i else 0\n",
    "\n",
    "        x[72] = 1\n",
    "        return x\n",
    "\n",
    "    def predict(self, s, a):\n",
    "        x = self.sa2x(s, a)\n",
    "        return self.theta.dot(x)\n",
    "    \n",
    "    def get_action(self, s):\n",
    "        Qs = np.zeros(num_actions)\n",
    "        for a in range(num_actions):\n",
    "            Qs[a] = self.predict(s, a)\n",
    "        return np.argmax(Qs), max(Qs)\n",
    "    \n",
    "    def random_action(self, action):\n",
    "        p = np.random.rand()\n",
    "        if p < self.eps:\n",
    "            return np.random.choice([0, 1, 2, 3, 4, 5])\n",
    "        else:\n",
    "            return action\n",
    "    \n",
    "    def observation_prep(self, action, observation, observation_, reward, done, reward_given=False):\n",
    "        # Adding the passenger state to the observation and adjusting the reward\n",
    "        if action == 4 and observation == self.passenger_location:\n",
    "            observation_ = tuple([1] + list(env.decode(observation_))[:2])\n",
    "            # Reward for picking passenger up\n",
    "            if not reward_given:\n",
    "                reward_given = True\n",
    "                reward = 10\n",
    "        elif action == 5:\n",
    "            observation_ = tuple([0] + list(env.decode(observation_))[:2])\n",
    "            # Terminate the episode if there is an illegal drop off\n",
    "            if observation != self.destination:\n",
    "                done = True\n",
    "                reward = -10\n",
    "            else:\n",
    "                reward = 20\n",
    "        else:\n",
    "            if observation[0] == 1:\n",
    "                observation_ = tuple([1] + list(env.decode(observation_))[:2])\n",
    "            else:\n",
    "                observation_ = tuple([0] + list(env.decode(observation_))[:2])\n",
    "\n",
    "        return observation_, reward, done, reward_given\n",
    "        \n",
    "    \n",
    "    def train(self, num_episodes=8001, render_every=1000, eps_decay=1.0005, alpha_decay=1.0005, max_episode_steps=100):\n",
    "        for i in range(num_episodes):\n",
    "            # Render\n",
    "            if i % render_every == 0:\n",
    "                print('Episode:', i, 'eps:', self.eps, 'alpha:', self.alpha)\n",
    "                if i != 0:\n",
    "                    self.plot()\n",
    "                env = gym.make(env_name, render_mode='human')\n",
    "            else:\n",
    "                env = gym.make(env_name)\n",
    "\n",
    "            # Decay epsilon and alpha\n",
    "            reward_given = False\n",
    "            self.eps /= eps_decay\n",
    "            self.alpha /= alpha_decay\n",
    "            if self.alpha < 0.1:\n",
    "                self.alpha = 0.1\n",
    "\n",
    "            # Reset environment\n",
    "            env._max_episode_steps = max_episode_steps\n",
    "            observation, info = env.reset(seed=self.seed)\n",
    "            observation = tuple([0] + list(env.decode(observation))[:2])\n",
    "            done = False\n",
    "            while not done:\n",
    "                # Get action\n",
    "                a, _ = self.get_action(observation)\n",
    "                a = self.random_action(a)\n",
    "\n",
    "                # Take action\n",
    "                prev_observation = observation\n",
    "                observation, reward, terminated, truncated, info = env.step(a)\n",
    "                done = terminated or truncated\n",
    "                observation, reward, done, reward_given = self.observation_prep(a, prev_observation, observation, reward, done, reward_given)\n",
    "\n",
    "                # Update theta\n",
    "                theta_old = self.theta.copy()\n",
    "                if done:\n",
    "                    self.theta += self.alpha*(reward - self.predict(prev_observation, a))*self.sa2x(prev_observation, a)\n",
    "                else:\n",
    "                    _, maxQ_ = self.get_action(observation)\n",
    "                    self.theta += self.alpha*(reward + self.gamma*maxQ_ - self.predict(prev_observation, a))*self.sa2x(prev_observation, a)\n",
    "            env.close()\n",
    "\n",
    "            # Plotting\n",
    "            self.deltas.append(np.abs(self.theta - theta_old).sum())\n",
    "\n",
    "        clear_output(wait=True)\n",
    "        env.close()\n",
    "\n",
    "    def test(self, max_episode_steps=100):\n",
    "        env = gym.make(env_name, render_mode='human')\n",
    "        env._max_episode_steps = max_episode_steps\n",
    "        observation, info = env.reset(seed=self.seed)\n",
    "        observation = tuple([0] + list(env.decode(observation))[:2])\n",
    "        reward_given = False\n",
    "        reward_sum = 0\n",
    "        done = False\n",
    "        while not done:\n",
    "            # Get action\n",
    "            a, _ = self.get_action(observation)\n",
    "\n",
    "            # Take action\n",
    "            prev_observation = observation\n",
    "            observation, reward, terminated, truncated, info = env.step(a)\n",
    "            reward_sum += reward\n",
    "            print('State:', observation, ' Action:', a, 'Reward:', reward)\n",
    "            done = terminated or truncated\n",
    "            observation, reward, done, reward_given = self.observation_prep(a, prev_observation, observation, reward, done, reward_given)\n",
    "        print('Reward:', reward_sum)\n",
    "        env.close()\n",
    "    \n",
    "    def plot(self):\n",
    "        plt.plot(self.deltas)\n",
    "        plt.show()"
   ]
  },
  {
   "cell_type": "code",
   "execution_count": 5,
   "metadata": {},
   "outputs": [
    {
     "name": "stdout",
     "output_type": "stream",
     "text": [
      "Episode: 0 eps: 1.0 alpha: 0.15\n",
      "Episode: 8000 eps: 0.01833395757947439 alpha: 0.1\n"
     ]
    },
    {
     "data": {
      "image/png": "[encoded data removed]",
      "text/plain": [
       "<Figure size 640x480 with 1 Axes>"
      ]
     },
     "metadata": {},
     "output_type": "display_data"
    }
   ],
   "source": [
    "model = SemiGradientSarsa(env_name, alpha=0.15)\n",
    "model.train(num_episodes=8001, render_every=8000)"
   ]
  },
  {
   "cell_type": "code",
   "execution_count": 6,
   "metadata": {},
   "outputs": [],
   "source": [
    "states = []\n",
    "for i in range(2):\n",
    "    for j in range(5):\n",
    "        for k in range(5):\n",
    "            states.append((i, j, k))\n",
    "\n",
    "policy = {}\n",
    "V = {}\n",
    "for state in states:\n",
    "    policy[state], V[state] = model.get_action(state)"
   ]
  },
  {
   "cell_type": "code",
   "execution_count": 7,
   "metadata": {},
   "outputs": [
    {
     "name": "stdout",
     "output_type": "stream",
     "text": [
      "Policy:\n",
      " [[['S' 'E' 'E' 'N' 'P']\n",
      "  ['S' 'E' 'E' 'E' 'N']\n",
      "  ['D' 'E' 'E' 'E' 'N']\n",
      "  ['D' 'D' 'E' 'E' 'E']\n",
      "  ['D' 'D' 'D' 'E' 'E']]\n",
      "\n",
      " [['D' 'S' 'S' 'S' 'S']\n",
      "  ['D' 'S' 'S' 'S' 'S']\n",
      "  ['D' 'D' 'S' 'S' 'S']\n",
      "  ['D' 'D' 'D' 'S' 'S']\n",
      "  ['D' 'D' 'D' 'D' 'W']]]\n",
      "Value:\n",
      " [[[ 1.59247258  4.75366112  7.39535206 10.53143741 17.21881699]\n",
      "  [ 3.16953745  5.73848069  8.17685451  9.98279767 14.30727824]\n",
      "  [ 6.38149044  6.51044359  8.67766524 10.09952316 12.07328254]\n",
      "  [11.85562111  9.76589037  8.89778423  9.86772187  9.97936272]\n",
      "  [19.38283293 17.03621969 11.5703478   9.28739382  8.76634627]]\n",
      "\n",
      " [[ 7.90718633  8.12737276  8.79222738  8.73253582  7.94829806]\n",
      "  [10.72403601 10.50508741 11.08622435 10.90284524  9.95495008]\n",
      "  [17.03243981 14.66321998 13.59597173 13.2413793  12.08230096]\n",
      "  [26.83239775 24.21317955 18.23670351 15.748138   14.33035069]\n",
      "  [40.12390982 37.24780912 30.54887449 20.0271059  17.13103154]]]\n"
     ]
    }
   ],
   "source": [
    "# Convert policy to matrix format\n",
    "action_mapping = {\n",
    "    0: 'S',\n",
    "    1: 'N',\n",
    "    2: 'E',\n",
    "    3: 'W',\n",
    "    4: 'P',\n",
    "    5: 'D'\n",
    "}\n",
    "\n",
    "policy_matrix = np.zeros((2, 5, 5), dtype='<U2')\n",
    "V_matrix = np.zeros((2, 5, 5))\n",
    "\n",
    "for ps in range(2):\n",
    "    for s1 in range(5):\n",
    "        for s2 in range(5):\n",
    "            state = (ps, s1, s2)\n",
    "            policy_matrix[ps, s1, s2] = action_mapping[policy[state]]\n",
    "            V_matrix[ps, s1, s2] = V[state] \n",
    "\n",
    "print('Policy:\\n', policy_matrix)\n",
    "print('Value:\\n', V_matrix)"
   ]
  },
  {
   "cell_type": "code",
   "execution_count": 8,
   "metadata": {},
   "outputs": [
    {
     "name": "stdout",
     "output_type": "stream",
     "text": [
      "State: 287  Action: 2 Reward: -1\n",
      "State: 187  Action: 1 Reward: -1\n",
      "State: 87  Action: 1 Reward: -1\n",
      "State: 99  Action: 4 Reward: -1\n",
      "State: 199  Action: 0 Reward: -1\n",
      "State: 299  Action: 0 Reward: -1\n",
      "State: 399  Action: 0 Reward: -1\n",
      "State: 499  Action: 0 Reward: -1\n",
      "State: 479  Action: 3 Reward: -1\n",
      "State: 475  Action: 5 Reward: 20\n",
      "Reward: 11\n"
     ]
    }
   ],
   "source": [
    "model.test()"
   ]
  },
  {
   "attachments": {},
   "cell_type": "markdown",
   "metadata": {},
   "source": [
    "### Semi-Gradient TD(λ)"
   ]
  },
  {
   "attachments": {},
   "cell_type": "markdown",
   "metadata": {},
   "source": [
    "The key difference between semi-gradient TD(lambda) and semi-gradient Sarsa(0) is that TD(lambda) is a bootstrapping algorithm, whereas Sarsa(0) is a sampling-based algorithm. This means that TD(lambda) uses the estimates of the next state's value to update the value function instead of waiting for the actual next state and reward like Sarsa(0) does.\n",
    "\n",
    "TD(lambda) also uses a eligibility trace, which is a way to give credit to the previous states that lead to the current state being evaluated. This is done by keeping track of the recent history of states and actions and using them to update the value function. The lambda parameter controls the degree to which credit is given to the previous states, with a higher lambda value giving more credit to earlier states.\n",
    "\n",
    "In the next section, we'll explore the implementation of semi-gradient TD(lambda) in the Taxi-v3 environment.\n",
    "\n",
    "Pseudocode:\n",
    "\n",
    "```\n",
    "Q(S, A) <-- initial action-value function\n",
    "Loop for each episode:\n",
    "    E <-- 0 (eligibility trace)\n",
    "    S, A <-- initial state and action of episode (e.g., env,reset)\n",
    "    Loop for each step of episode:\n",
    "        Take action A, observe R, S'\n",
    "        Choose A' as a function of Q(S', .) (e.g., epsilon-greedy)\n",
    "        delta <-- R + gamma * Q(S', A') - Q(S, A) # Calculate TD error\n",
    "        E(S, A) <-- E(S, A) + 1\n",
    "        Q(S, A) <-- Q(S, A) + alpha * delta * E(S, A)\n",
    "        E(S, A) <-- gamma * lambda * E(S, A)\n",
    "        S <-- S'; A <-- A'\n",
    "    until S is terminal\n",
    "```\n",
    "\n",
    "Reference: Sutton, R.S. and Barto, A.G., 2018. Reinforcement learning: An introduction. MIT press."
   ]
  },
  {
   "cell_type": "code",
   "execution_count": 3,
   "metadata": {},
   "outputs": [],
   "source": [
    "import gymnasium as gym\n",
    "from IPython.display import clear_output\n",
    "import numpy as np\n",
    "import time\n",
    "\n",
    "class semiGradientTD:\n",
    "    def __init__(self, env_name, alpha=0.1, gamma=0.99, lmbda=0.5):\n",
    "        self.env_name = env_name\n",
    "        env = gym.make(env_name)\n",
    "        self.Q = np.zeros((env.observation_space.n, env.action_space.n))\n",
    "        self.alpha = alpha\n",
    "        self.gamma = gamma\n",
    "        self.lmbda = lmbda\n",
    "        \n",
    "    def train(self, episodes=201, max_steps=30, seed=6, render_every=20):\n",
    "        for i in range(episodes):\n",
    "            if i % render_every == 0:\n",
    "                print('Episode:', i)\n",
    "                env = gym.make(self.env_name, render_mode='human')\n",
    "            else:\n",
    "                env = gym.make(self.env_name)\n",
    "            \n",
    "            env._max_episode_steps = 30\n",
    "            observation, info = env.reset(seed = seed)\n",
    "            done = False\n",
    "            E = np.zeros((env.observation_space.n, env.action_space.n)) # Eligibility trace\n",
    "            while not done:\n",
    "                action = np.argmax(self.Q[observation, :] + np.random.randn(1, env.action_space.n) * (1. / (i + 1)))\n",
    "                observation_, reward, terminated, truncated, info = env.step(action)\n",
    "                done = terminated or truncated\n",
    "                delta = reward + self.gamma * self.Q[observation_, np.argmax(self.Q[observation_, :])] - self.Q[observation, action]\n",
    "                E[observation, action] += 1\n",
    "                self.Q += self.alpha * delta * E\n",
    "                E *= self.gamma * self.lmbda\n",
    "                observation = observation_\n",
    "            env.close()\n",
    "        env.close()\n",
    "\n",
    "    def test(self, seed=6):\n",
    "        reward_sum = 0\n",
    "        env = gym.make(self.env_name, render_mode='human')\n",
    "        env._max_episode_steps = 30\n",
    "        observation, info = env.reset(seed=seed)\n",
    "        done = False\n",
    "        while not done:\n",
    "            action = np.argmax(self.Q[observation, :])\n",
    "            observation_, reward, terminated, truncated, info = env.step(action)\n",
    "            done = terminated or truncated\n",
    "            reward_sum += reward\n",
    "            observation = observation_\n",
    "            print('State:', observation, ' Action:', action, 'Reward:', reward)\n",
    "        env.close()\n",
    "        print('Cummulative Reward: ', reward_sum)"
   ]
  },
  {
   "cell_type": "code",
   "execution_count": 4,
   "metadata": {},
   "outputs": [
    {
     "name": "stdout",
     "output_type": "stream",
     "text": [
      "Episode: 0\n",
      "Episode: 50\n",
      "Episode: 100\n",
      "Episode: 150\n",
      "Episode: 200\n"
     ]
    }
   ],
   "source": [
    "model = semiGradientTD('Taxi-v3')\n",
    "model.train(render_every=50)"
   ]
  },
  {
   "cell_type": "code",
   "execution_count": 14,
   "metadata": {},
   "outputs": [
    {
     "name": "stdout",
     "output_type": "stream",
     "text": [
      "State: 287  Action: 2 Reward: -1\n",
      "State: 187  Action: 1 Reward: -1\n",
      "State: 87  Action: 1 Reward: -1\n",
      "State: 99  Action: 4 Reward: -1\n",
      "State: 79  Action: 3 Reward: -1\n",
      "State: 179  Action: 0 Reward: -1\n",
      "State: 279  Action: 0 Reward: -1\n",
      "State: 379  Action: 0 Reward: -1\n",
      "State: 479  Action: 0 Reward: -1\n",
      "State: 475  Action: 5 Reward: 20\n",
      "Cummulative Reward:  11\n"
     ]
    }
   ],
   "source": [
    "model.test()"
   ]
  },
  {
   "attachments": {},
   "cell_type": "markdown",
   "metadata": {},
   "source": [
    "## Results\n",
    "Both algorithms performed well in the Taxi-v3 environment, and were able to successfully drop the passenger. The semi-gradient TD(lambda) algorithm performed equal to the semi-gradient Sarsa(0) algorithm, achieving a cummulative reward of 11. However semi-gradient TD(lambda) required significantly less episodes to reach convergence. This is likely due to the fact that TD(lambda) is a bootstrapping algorithm, which means that it uses the estimates of the next state's value to update the value function instead of waiting for the actual next state and reward like Sarsa(0) does."
   ]
  }
 ],
 "metadata": {
  "kernelspec": {
   "display_name": "Python 3 (ipykernel)",
   "language": "python",
   "name": "python3"
  },
  "language_info": {
   "codemirror_mode": {
    "name": "ipython",
    "version": 3
   },
   "file_extension": ".py",
   "mimetype": "text/x-python",
   "name": "python",
   "nbconvert_exporter": "python",
   "pygments_lexer": "ipython3",
   "version": "3.10.9"
  }
 },
 "nbformat": 4,
 "nbformat_minor": 2
}
